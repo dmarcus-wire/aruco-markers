{
 "cells": [
  {
   "cell_type": "markdown",
   "source": [
    "Import packages"
   ],
   "metadata": {
    "collapsed": false
   }
  },
  {
   "cell_type": "code",
   "execution_count": 8,
   "outputs": [],
   "source": [
    "# import the necessary packages\n",
    "import matplotlib.pyplot as plt\n",
    "import numpy as np # allocating the 2d array the image will be drawn on\n",
    "import argparse\n",
    "import cv2\n",
    "import sys # exit out of script early"
   ],
   "metadata": {
    "collapsed": false,
    "pycharm": {
     "name": "#%%\n"
    }
   }
  },
  {
   "cell_type": "markdown",
   "source": [
    "Function to display image in notebook"
   ],
   "metadata": {
    "collapsed": false
   }
  },
  {
   "cell_type": "code",
   "execution_count": 9,
   "outputs": [],
   "source": [
    "def plt_imshow(title, image):\n",
    "    # convert BGR to RGB and display\n",
    "    image = cv2.cvtColor(image, cv2.COLOR_BGR2RGB)\n",
    "    plt.imshow(image)\n",
    "    plt.title(title)\n",
    "    plt.grid(False)\n",
    "    plt.show()"
   ],
   "metadata": {
    "collapsed": false,
    "pycharm": {
     "name": "#%%\n"
    }
   }
  },
  {
   "cell_type": "markdown",
   "source": [
    "Implement ArUco marker generation"
   ],
   "metadata": {
    "collapsed": false
   }
  },
  {
   "cell_type": "code",
   "execution_count": 10,
   "outputs": [],
   "source": [
    "# # construct the argument parser and parse the arguments\n",
    "# ap = argparse.ArgumentParser()\n",
    "# ap.add_argument(\"-o\", \"--output\", required=True,\n",
    "# \thelp=\"path to output image containing ArUCo tag\")\n",
    "# ap.add_argument(\"-i\", \"--id\", type=int, required=True,\n",
    "# \thelp=\"ID of ArUCo tag to generate\")\n",
    "# ap.add_argument(\"-t\", \"--type\", type=str,\n",
    "# \tdefault=\"DICT_ARUCO_ORIGINAL\",\n",
    "# \thelp=\"type of ArUCo tag to generate\")\n",
    "# args = vars(ap.parse_args())\n",
    "\n",
    "# since we are using Jupyter Notebooks we can replace our argument\n",
    "# parsing code with *hard coded* arguments and values\n",
    "args = {\n",
    "\t\"output\": \"DICT_5X5_100_id24.png\",\n",
    "    \"id\": 24,\n",
    "    \"type\": \"DICT_ARUCO_ORIGINAL\",\n",
    "}\n",
    "\n",
    "# options to try\n",
    "# type: DICT_5X5_100, DICT_4X4_50\n",
    "# id: 42, 66, 87, 70\n",
    "# output: update to relfect <type>_<id>.png"
   ],
   "metadata": {
    "collapsed": false,
    "pycharm": {
     "name": "#%%\n"
    }
   }
  },
  {
   "cell_type": "code",
   "execution_count": 11,
   "outputs": [],
   "source": [
    "# define names of each possible ArUco tag OpenCV supports\n",
    "ARUCO_DICT = {\n",
    "\t# 4x4 bits (16 total). store 50 unique ids\n",
    "\t# max ids and size = balanace\n",
    "\t# maps ArUco tag name to opencv unique id for each family\n",
    "\t\"DICT_4X4_50\": cv2.aruco.DICT_4X4_50,\n",
    "\t\"DICT_4X4_100\": cv2.aruco.DICT_4X4_100,\n",
    "\t\"DICT_4X4_250\": cv2.aruco.DICT_4X4_250,\n",
    "\t\"DICT_4X4_1000\": cv2.aruco.DICT_4X4_1000,\n",
    "\t\"DICT_5X5_50\": cv2.aruco.DICT_5X5_50,\n",
    "\t\"DICT_5X5_100\": cv2.aruco.DICT_5X5_100,\n",
    "\t\"DICT_5X5_250\": cv2.aruco.DICT_5X5_250,\n",
    "\t\"DICT_5X5_1000\": cv2.aruco.DICT_5X5_1000,\n",
    "\t\"DICT_6X6_50\": cv2.aruco.DICT_6X6_50,\n",
    "\t\"DICT_6X6_100\": cv2.aruco.DICT_6X6_100,\n",
    "\t\"DICT_6X6_250\": cv2.aruco.DICT_6X6_250,\n",
    "\t\"DICT_6X6_1000\": cv2.aruco.DICT_6X6_1000,\n",
    "\t\"DICT_7X7_50\": cv2.aruco.DICT_7X7_50,\n",
    "\t\"DICT_7X7_100\": cv2.aruco.DICT_7X7_100,\n",
    "\t\"DICT_7X7_250\": cv2.aruco.DICT_7X7_250,\n",
    "\t\"DICT_7X7_1000\": cv2.aruco.DICT_7X7_1000,\n",
    "\t\"DICT_ARUCO_ORIGINAL\": cv2.aruco.DICT_ARUCO_ORIGINAL,\n",
    "\t\"DICT_APRILTAG_16h5\": cv2.aruco.DICT_APRILTAG_16h5,\n",
    "\t\"DICT_APRILTAG_25h9\": cv2.aruco.DICT_APRILTAG_25h9,\n",
    "\t\"DICT_APRILTAG_36h10\": cv2.aruco.DICT_APRILTAG_36h10,\n",
    "\t\"DICT_APRILTAG_36h11\": cv2.aruco.DICT_APRILTAG_36h11\n",
    "}"
   ],
   "metadata": {
    "collapsed": false,
    "pycharm": {
     "name": "#%%\n"
    }
   }
  },
  {
   "cell_type": "code",
   "execution_count": 12,
   "outputs": [],
   "source": [
    "# verify that the supplied ArUCo tag exists and is supported by\n",
    "# OpenCV, else exit\n",
    "if ARUCO_DICT.get(args[\"type\"], None) is None:\n",
    "\tprint(\"[INFO] ArUCo tag of '{}' is not supported\".format(\n",
    "\t\targs[\"type\"]))\n",
    "\tsys.exit(0)\n",
    "\n",
    "# load the ArUCo dictionary into a variable\n",
    "# instructs opencv how to draw the marker, else opencv doesnt know how to draw it\n",
    "arucoDict = cv2.aruco.Dictionary_get(ARUCO_DICT[args[\"type\"]])"
   ],
   "metadata": {
    "collapsed": false,
    "pycharm": {
     "name": "#%%\n"
    }
   }
  },
  {
   "cell_type": "code",
   "execution_count": 13,
   "outputs": [
    {
     "name": "stdout",
     "output_type": "stream",
     "text": [
      "[INFO] generating ArUCo tag type 'DICT_ARUCO_ORIGINAL' with ID '24'\n"
     ]
    },
    {
     "data": {
      "text/plain": "<Figure size 432x288 with 1 Axes>",
      "image/png": "[encoded data removed]"
     },
     "metadata": {
      "needs_background": "light"
     },
     "output_type": "display_data"
    }
   ],
   "source": [
    "# allocate memory for the output ArUCo tag and then draw the ArUCo\n",
    "# tag on the output image\n",
    "print(\"[INFO] generating ArUCo tag type '{}' with ID '{}'\".format(\n",
    "\targs[\"type\"], args[\"id\"]))\n",
    "# 300 x 300 square image, 1 channel, unsigned bit integer standard for opencv\n",
    "# 300 is just the resolution needed for your application\n",
    "tag = np.zeros((300, 300, 1), dtype=\"uint8\")\n",
    "# draw the marker set above, with the id mapping, size value mapped earlier, canvas tag, 1 bit/cell for padded\n",
    "# padding ensure contrast between ArUco tag and environment\n",
    "cv2.aruco.drawMarker(arucoDict, args[\"id\"], 300, tag, 1)\n",
    "\n",
    "# write the generated ArUCo tag to disk and then display it to our\n",
    "# screen\n",
    "cv2.imwrite(args[\"output\"], tag)\n",
    "plt_imshow(\"ArUCo Tag\", tag)"
   ],
   "metadata": {
    "collapsed": false,
    "pycharm": {
     "name": "#%%\n"
    }
   }
  },
  {
   "cell_type": "markdown",
   "source": [
    "How to apply this to a computer vision robotics system\n",
    "\n",
    "if id == 24:\n",
    "\tGO()\n",
    "\n",
    "if id == 42:\n",
    "\tSLOW()\n",
    "\n",
    "if id == 70:\n",
    "\tSTOP()\n",
    "\n",
    "if id == 67:\n",
    "\tLEFT()\n",
    "\n",
    "if id == 78:\n",
    "\tRIGHT()"
   ],
   "metadata": {
    "collapsed": false
   }
  },
  {
   "cell_type": "code",
   "execution_count": null,
   "outputs": [],
   "source": [],
   "metadata": {
    "collapsed": false,
    "pycharm": {
     "name": "#%%\n"
    }
   }
  }
 ],
 "metadata": {
  "kernelspec": {
   "display_name": "Python 3",
   "language": "python",
   "name": "python3"
  },
  "language_info": {
   "codemirror_mode": {
    "name": "ipython",
    "version": 2
   },
   "file_extension": ".py",
   "mimetype": "text/x-python",
   "name": "python",
   "nbconvert_exporter": "python",
   "pygments_lexer": "ipython2",
   "version": "2.7.6"
  }
 },
 "nbformat": 4,
 "nbformat_minor": 0
}