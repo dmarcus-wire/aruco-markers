{
 "cells": [
  {
   "cell_type": "markdown",
   "source": [
    "Import packages"
   ],
   "metadata": {
    "collapsed": false
   }
  },
  {
   "cell_type": "code",
   "execution_count": 22,
   "outputs": [],
   "source": [
    "# import the necessary packages\n",
    "from imutils.video import VideoStream\n",
    "import matplotlib.pyplot as plt\n",
    "import argparse\n",
    "import imutils # for image resizing\n",
    "import time\n",
    "import cv2\n",
    "import sys"
   ],
   "metadata": {
    "collapsed": false,
    "pycharm": {
     "name": "#%%\n"
    }
   }
  },
  {
   "cell_type": "markdown",
   "source": [
    "Function to display images in notebooks"
   ],
   "metadata": {
    "collapsed": false
   }
  },
  {
   "cell_type": "code",
   "execution_count": 23,
   "outputs": [],
   "source": [
    "def plt_imshow(title, image):\n",
    "    # convert the image frame BGR to RGB color space and display it\n",
    "\timage = cv2.cvtColor(image, cv2.COLOR_BGR2RGB)\n",
    "\tplt.imshow(image)\n",
    "\tplt.title(title)\n",
    "\tplt.grid(False)\n",
    "\tplt.show()"
   ],
   "metadata": {
    "collapsed": false,
    "pycharm": {
     "name": "#%%\n"
    }
   }
  },
  {
   "cell_type": "markdown",
   "source": [
    "Detecting ArUco markers"
   ],
   "metadata": {
    "collapsed": false
   }
  },
  {
   "cell_type": "code",
   "execution_count": 24,
   "outputs": [],
   "source": [
    "# # construct the argument parser and parse the arguments\n",
    "# ap = argparse.ArgumentParser()\n",
    "# ap.add_argument(\"-i\", \"--image\", required=True,\n",
    "# \thelp=\"path to input image containing ArUCo tag\")\n",
    "# ap.add_argument(\"-t\", \"--type\", type=str,\n",
    "# \tdefault=\"DICT_ARUCO_ORIGINAL\",\n",
    "# \thelp=\"type of ArUCo tag to detect\")\n",
    "# args = vars(ap.parse_args())\n",
    "\n",
    "# since we are using Jupyter Notebooks we can replace our argument\n",
    "# parsing code with *hard coded* arguments and values\n",
    "args = {\n",
    "    \"image\": \"./images/DICT_5X5_100_ORIGINAL.png\",\n",
    "    \"type\": \"DICT_5X5_100\",\n",
    "}\n",
    "\n",
    "# also try DICT_ARUCO_ORIGINAL for the id24 marker"
   ],
   "metadata": {
    "collapsed": false,
    "pycharm": {
     "name": "#%%\n"
    }
   }
  },
  {
   "cell_type": "code",
   "execution_count": 25,
   "outputs": [],
   "source": [
    "# define names of each possible ArUco tag OpenCV supports\n",
    "ARUCO_DICT = {\n",
    "\t\"DICT_4X4_50\": cv2.aruco.DICT_4X4_50,\n",
    "\t\"DICT_4X4_100\": cv2.aruco.DICT_4X4_100,\n",
    "\t\"DICT_4X4_250\": cv2.aruco.DICT_4X4_250,\n",
    "\t\"DICT_4X4_1000\": cv2.aruco.DICT_4X4_1000,\n",
    "\t\"DICT_5X5_50\": cv2.aruco.DICT_5X5_50,\n",
    "\t\"DICT_5X5_100\": cv2.aruco.DICT_5X5_100,\n",
    "\t\"DICT_5X5_250\": cv2.aruco.DICT_5X5_250,\n",
    "\t\"DICT_5X5_1000\": cv2.aruco.DICT_5X5_1000,\n",
    "\t\"DICT_6X6_50\": cv2.aruco.DICT_6X6_50,\n",
    "\t\"DICT_6X6_100\": cv2.aruco.DICT_6X6_100,\n",
    "\t\"DICT_6X6_250\": cv2.aruco.DICT_6X6_250,\n",
    "\t\"DICT_6X6_1000\": cv2.aruco.DICT_6X6_1000,\n",
    "\t\"DICT_7X7_50\": cv2.aruco.DICT_7X7_50,\n",
    "\t\"DICT_7X7_100\": cv2.aruco.DICT_7X7_100,\n",
    "\t\"DICT_7X7_250\": cv2.aruco.DICT_7X7_250,\n",
    "\t\"DICT_7X7_1000\": cv2.aruco.DICT_7X7_1000,\n",
    "\t\"DICT_ARUCO_ORIGINAL\": cv2.aruco.DICT_ARUCO_ORIGINAL,\n",
    "\t\"DICT_APRILTAG_16h5\": cv2.aruco.DICT_APRILTAG_16h5,\n",
    "\t\"DICT_APRILTAG_25h9\": cv2.aruco.DICT_APRILTAG_25h9,\n",
    "\t\"DICT_APRILTAG_36h10\": cv2.aruco.DICT_APRILTAG_36h10,\n",
    "\t\"DICT_APRILTAG_36h11\": cv2.aruco.DICT_APRILTAG_36h11\n",
    "}"
   ],
   "metadata": {
    "collapsed": false,
    "pycharm": {
     "name": "#%%\n"
    }
   }
  },
  {
   "cell_type": "code",
   "execution_count": 26,
   "outputs": [
    {
     "name": "stdout",
     "output_type": "stream",
     "text": [
      "[INFO] loading image...\n",
      "[INFO] detecting 'DICT_5X5_100' tags...\n"
     ]
    }
   ],
   "source": [
    "# load the input image from disk and resize it\n",
    "print(\"[INFO] loading image...\")\n",
    "image = cv2.imread(args[\"image\"])\n",
    "# resize to 600 for noise reduction, but if too small the markers are undetectable\n",
    "# you may need to increase the resolution of the image\n",
    "# as images get smaller, the aruco marker needs to get bigger\n",
    "image = imutils.resize(image, width=600)\n",
    "\n",
    "# check the dictionary for cli argument validity, verify that the supplied ArUCo tag exists and is supported by\n",
    "# OpenCV\n",
    "if ARUCO_DICT.get(args[\"type\"], None) is None:\n",
    "\tprint(\"[INFO] ArUCo tag of '{}' is not supported\".format(\n",
    "\t\targs[\"type\"]))\n",
    "\tsys.exit(0)\n",
    "\n",
    "# load the ArUCo dictionary, grab the ArUCo parameters, and detect\n",
    "# the markers\n",
    "print(\"[INFO] detecting '{}' tags...\".format(args[\"type\"]))\n",
    "arucoDict = cv2.aruco.Dictionary_get(ARUCO_DICT[args[\"type\"]])\n",
    "arucoParams = cv2.aruco.DetectorParameters_create()\n",
    "# this is where the magic happens\n",
    "# pass in the original image, the dictionary we loaded as parameters, returns 3 tuple\n",
    "# list of lists of the 4 corners of the aruco markers\n",
    "# ids == the aruco marker id, rejected is false positive for false positive or for ML training\n",
    "(corners, ids, rejected) = cv2.aruco.detectMarkers(image, arucoDict,\n",
    "\tparameters=arucoParams)"
   ],
   "metadata": {
    "collapsed": false,
    "pycharm": {
     "name": "#%%\n"
    }
   }
  },
  {
   "cell_type": "code",
   "execution_count": 27,
   "outputs": [
    {
     "name": "stdout",
     "output_type": "stream",
     "text": [
      "[INFO] ArUco marker ID: 70\n"
     ]
    },
    {
     "data": {
      "text/plain": "<Figure size 432x288 with 1 Axes>",
      "image/png": "[encoded data removed]"
     },
     "metadata": {
      "needs_background": "light"
     },
     "output_type": "display_data"
    },
    {
     "name": "stdout",
     "output_type": "stream",
     "text": [
      "[INFO] ArUco marker ID: 66\n"
     ]
    },
    {
     "data": {
      "text/plain": "<Figure size 432x288 with 1 Axes>",
      "image/png": "[encoded data removed]"
     },
     "metadata": {
      "needs_background": "light"
     },
     "output_type": "display_data"
    },
    {
     "name": "stdout",
     "output_type": "stream",
     "text": [
      "[INFO] ArUco marker ID: 87\n"
     ]
    },
    {
     "data": {
      "text/plain": "<Figure size 432x288 with 1 Axes>",
      "image/png": "[encoded data removed]"
     },
     "metadata": {
      "needs_background": "light"
     },
     "output_type": "display_data"
    },
    {
     "name": "stdout",
     "output_type": "stream",
     "text": [
      "[INFO] ArUco marker ID: 42\n"
     ]
    },
    {
     "data": {
      "text/plain": "<Figure size 432x288 with 1 Axes>",
      "image/png": "[encoded data removed]"
     },
     "metadata": {
      "needs_background": "light"
     },
     "output_type": "display_data"
    }
   ],
   "source": [
    "# verify *at least* one ArUco marker was detected\n",
    "if len(corners) > 0:\n",
    "\t# flatten the ArUco IDs list\n",
    "\tids = ids.flatten()\n",
    "\n",
    "\t# loop over the detected ArUCo corners\n",
    "\tfor (markerCorner, markerID) in zip(corners, ids):\n",
    "\t\t# extract the marker corners (which are always returned in\n",
    "\t\t# top-left, top-right, bottom-right, and bottom-left order)\n",
    "\t\t# convert to 4x2 array; opencv stipulates order to return\n",
    "\t\tcorners = markerCorner.reshape((4, 2))\n",
    "\t\t# below are numpy data tags and MUST be converted to python integers\n",
    "\t\t(topLeft, topRight, bottomRight, bottomLeft) = corners\n",
    "\n",
    "\t\t# convert each of the (x, y)-coordinate pairs to integers\n",
    "\t\ttopRight = (int(topRight[0]), int(topRight[1]))\n",
    "\t\tbottomRight = (int(bottomRight[0]), int(bottomRight[1]))\n",
    "\t\tbottomLeft = (int(bottomLeft[0]), int(bottomLeft[1]))\n",
    "\t\ttopLeft = (int(topLeft[0]), int(topLeft[1]))\n",
    "\n",
    "\t\t# draw the bounding box of the ArUCo detection\n",
    "\t\tcv2.line(image, topLeft, topRight, (0, 255, 0), 2)\n",
    "\t\tcv2.line(image, topRight, bottomRight, (0, 255, 0), 2)\n",
    "\t\tcv2.line(image, bottomRight, bottomLeft, (0, 255, 0), 2)\n",
    "\t\tcv2.line(image, bottomLeft, topLeft, (0, 255, 0), 2)\n",
    "\n",
    "\t\t# compute and draw the center (x, y)-coordinates of the ArUco\n",
    "\t\t# marker\n",
    "\t\tcX = int((topLeft[0] + bottomRight[0]) / 2.0)\n",
    "\t\tcY = int((topLeft[1] + bottomRight[1]) / 2.0)\n",
    "\t\tcv2.circle(image, (cX, cY), 4, (0, 0, 255), -1)\n",
    "\n",
    "\t\t# draw the ArUco marker ID on the image\n",
    "\t\tcv2.putText(image, str(markerID),\n",
    "\t\t\t(topLeft[0], topLeft[1] - 15), cv2.FONT_HERSHEY_SIMPLEX,\n",
    "\t\t\t0.5, (0, 255, 0), 2)\n",
    "\t\tprint(\"[INFO] ArUco marker ID: {}\".format(markerID))\n",
    "\n",
    "\t\t# show the output image\n",
    "\t\tplt_imshow(\"Image\", image)"
   ],
   "metadata": {
    "collapsed": false,
    "pycharm": {
     "name": "#%%\n"
    }
   }
  },
  {
   "cell_type": "code",
   "execution_count": null,
   "outputs": [],
   "source": [],
   "metadata": {
    "collapsed": false,
    "pycharm": {
     "name": "#%%\n"
    }
   }
  }
 ],
 "metadata": {
  "kernelspec": {
   "display_name": "Python 3",
   "language": "python",
   "name": "python3"
  },
  "language_info": {
   "codemirror_mode": {
    "name": "ipython",
    "version": 2
   },
   "file_extension": ".py",
   "mimetype": "text/x-python",
   "name": "python",
   "nbconvert_exporter": "python",
   "pygments_lexer": "ipython2",
   "version": "2.7.6"
  }
 },
 "nbformat": 4,
 "nbformat_minor": 0
}